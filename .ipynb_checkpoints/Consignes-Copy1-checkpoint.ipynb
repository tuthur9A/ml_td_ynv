{
 "cells": [
  {
   "cell_type": "markdown",
   "metadata": {},
   "source": [
    "# TD de machine Learning\n",
    "\n",
    "**Elective** : Machine Learning   \n",
    "**Professeur** : Théophile Ravillion   \n",
    "**Date** : Jeudi 22 Avril 2021\n",
    "\n",
    "## Contexte \n",
    "Vous travaillez chez Deezer, département Data Science, félicitations.\n",
    "D'habiles ingénieurs musicologues ont mis au point un jeu de données contenant des informations sur des morceaux de musique. \n",
    "Avec quelques transformées de Fourier et autres joyeusetés propres à leur art, ils ont mis au point deux jeux de données contenant de nombreux indicateurs décrivant un morceau de musique.\n",
    "Ils comptent sur vous pour mettre au point un algorithme capable d'identifier le genre musical d'un morceau sur la base des différents indicateurs qu'ils ont mis au point.\n",
    "Vous vous apprétiez à leur demander des informations concernant ces variables mais vous constatez qu'ils sont partis en séminaire d'entreprise et que vous vous retrouvez tout seul avec un jeu d'entrainement étiqueté, un jeu de test et un post-it goguenard de votre chef qui vous demande de faire des prédictions précises sur le jeu de test d'ici 16h.\n",
    "\n",
    "## Votre défi :\n",
    "Modéliser le problème, construire un modèle et faire une prédiction de la catégorie à laquelle appartient chaque élément du fichier test.csv à l'aide d'un modèle aussi simple et performant que possible.\n",
    "\n",
    "\n",
    "## Livrable\n",
    "Un projet github contenant un notebook + un fichier prédictions.csv contenant les prédictions faites sur le jeu de test\n",
    "\n",
    "En header le nom des colonnes (music_id et prediction) et pour chacun des morceaux la catégorie prédite.\n",
    "Merci d'utiliser la virgule comme séparateur \n",
    "\n",
    "Bonne chance !"
   ]
  },
  {
   "cell_type": "markdown",
   "metadata": {},
   "source": [
    "# Feuille de route\n",
    "\n",
    "Comment procéder ? \n",
    "Pour réaliser cet exercice, il vous faudra :\n",
    "\n",
    "## Récuperer les données "
   ]
  },
  {
   "cell_type": "code",
   "execution_count": 4,
   "metadata": {},
   "outputs": [],
   "source": [
    "import pandas as pd\n",
    "\n",
    "url_train = \"https://raw.githubusercontent.com/RTheophile/td_ml_ynov/main/data/train.csv\"\n",
    "url_test = \"https://raw.githubusercontent.com/RTheophile/td_ml_ynov/main/data/test.csv\"\n",
    "\n",
    "df_train = pd.read_csv(url_train, sep=',', decimal='.' )\n",
    "df_test = pd.read_csv(url_test, sep=',', decimal='.' )\n"
   ]
  },
  {
   "cell_type": "markdown",
   "metadata": {},
   "source": [
    "## Analyser les données  \n",
    "Identifier la distribution de chaque variable  \n",
    "Données manquantes    \n",
    "Données aberrantes   \n",
    "Données corrélées entre elles  \n",
    "\n",
    "### Boite à outils :   \n",
    "**Décrire le contenu d'un dataframe pandas**   \n",
    "`df.info()`   \n",
    "`df.describe()`   \n",
    "\n",
    "Gallerie Seaborn : https://seaborn.pydata.org/examples/index.html#   \n",
    "Histograme : https://seaborn.pydata.org/generated/seaborn.histplot.html   \n",
    "PairPlot : https://seaborn.pydata.org/generated/seaborn.pairplot.html   \n",
    "Corrélogramme : https://seaborn.pydata.org/generated/seaborn.heatmap.html   \n",
    "\n",
    "**Imputation des valeurs manquantes :**   \n",
    "KNNImputer : https://scikit-learn.org/stable/modules/generated/sklearn.impute.KNNImputer.html  \n",
    "`df['chroma_0_mean'] = df['chroma_0_mean'].fillna(df['chroma_0_mean'].mean())`  \n",
    "`df['chroma_0_mean'] = df['chroma_0_mean'].fillna(df['chroma_0_mean'].median())`  \n",
    "`df['chroma_0_mean'] = df['chroma_0_mean'].fillna(df['chroma_0_mean'].mode())`  \n",
    "\n",
    "**Quelques fonctions pandas utiles :**  \n",
    "**Supprimer la ligne** i du dataframe df :   \n",
    "`df.drop(i, axis=0, inplace=True)`\n",
    "  \n",
    "**Supprimer la colonne** c du dataframe df :   \n",
    "`df.drop(i, axis=1, inplace=True)`\n",
    "  \n",
    "**Appliquer la fonction f** sur la colonne c du dataframe df :   \n",
    "`df[c] = df[c].apply(lambda x : f(x))`\n",
    "\n",
    "**Selectionner**  les 5 premiers éléments d'un dataframe df :   \n",
    "`df.head(5)`\n",
    "\n",
    "**Selectionner**  les 5 derniers éléments d'un dataframe df :   \n",
    "`df.tail(5)`\n",
    "\n",
    "**Selectionner**  les éléments d'un dataframe qui satisfont une condition :   \n",
    "ex : selectionner toutes les lignes dont le prix est supérieur à 100 :  \n",
    "`df[df['prix'] > 100]`"
   ]
  },
  {
   "cell_type": "code",
   "execution_count": null,
   "metadata": {},
   "outputs": [],
   "source": []
  },
  {
   "cell_type": "markdown",
   "metadata": {},
   "source": [
    "## Normaliser les données\n",
    "Choisir une méthode de normalisation, comparer les résultats obtenus avec différentes méthodes \n",
    "\n",
    "### Boite à outils\n",
    "\n",
    "K-NN : https://scikit-learn.org/stable/modules/generated/sklearn.neighbors.KNeighborsClassifier.html   \n",
    "Robust Scaler : https://scikit-learn.org/stable/modules/generated/sklearn.preprocessing.RobustScaler.html   \n",
    "StandardScaler : \n",
    "https://scikit-learn.org/stable/modules/generated/sklearn.preprocessing.StandardScaler.html#sklearn.preprocessing.StandardScaler         \n",
    "MinMaxScaler : \n",
    "https://scikit-learn.org/stable/modules/generated/sklearn.preprocessing.MinMaxScaler.html#sklearn.preprocessing.MinMaxScaler      "
   ]
  },
  {
   "cell_type": "code",
   "execution_count": null,
   "metadata": {},
   "outputs": [],
   "source": []
  },
  {
   "cell_type": "markdown",
   "metadata": {},
   "source": [
    "## Etudier l’opportunité d’une réduction de dimension\n",
    "- Tester les perfs obtenus pour différentes valeurs\n",
    "- Visualiser la variance expliquée par chaque axe\n",
    "- Justifier le nombre d’axes retenus\n",
    "\n",
    "### Boite à outils  \n",
    "Analyse en composante principale : https://scikit-learn.org/stable/modules/generated/sklearn.decomposition.PCA.html   "
   ]
  },
  {
   "cell_type": "code",
   "execution_count": null,
   "metadata": {},
   "outputs": [],
   "source": []
  },
  {
   "cell_type": "markdown",
   "metadata": {},
   "source": [
    "## Créer un échantillon non biaisé de validation\n",
    "A moins que vous n'utilisiez la k-fold validation (stratifiée ?)\n",
    "\n",
    "### Boite à outil :   \n",
    "`from sklearn.model_selection import train_test_split`  "
   ]
  },
  {
   "cell_type": "code",
   "execution_count": null,
   "metadata": {},
   "outputs": [],
   "source": []
  },
  {
   "cell_type": "markdown",
   "metadata": {},
   "source": [
    "## Entrainer différents algorithmes de classification\n",
    "\n",
    "`model = ...`   \n",
    "`model.fit(X_train, y_train)`\n",
    "\n",
    "### Boite à outils  \n",
    "SVM : https://scikit-learn.org/stable/modules/generated/sklearn.svm.SVC.html   \n",
    "Random Forest : https://scikit-learn.org/stable/modules/generated/sklearn.ensemble.RandomForestClassifier   \n",
    "Regression logistique : https://scikit-learn.org/stable/modules/generated/sklearn.linear_model.LogisticRegression.html   "
   ]
  },
  {
   "cell_type": "code",
   "execution_count": null,
   "metadata": {},
   "outputs": [],
   "source": []
  },
  {
   "cell_type": "markdown",
   "metadata": {},
   "source": [
    "## Comparer la performance de différents algorithmes\n",
    "Faire des prédictions et evaluer leur justesse de ces prédictions à l'aide de différents indicateurs :\n",
    "- Matrice de confusion\n",
    "- Accuracy\n",
    "- F-Score\n",
    "\n",
    "### Boite à outils  \n",
    "Un rapport de performance clé en main : https://scikit-learn.org/stable/modules/generated/sklearn.metrics.classification_report.html   \n",
    "\n",
    "Liste des différents indicateurs : https://scikit-learn.org/stable/modules/model_evaluation.html\n",
    "\n",
    "Faire une prédiction avec un model sklearn entrainé :\n",
    "`y_pred_1 = model_1.predict(X_val, y_val)`   \n",
    "\n",
    "\n",
    "\n"
   ]
  },
  {
   "cell_type": "code",
   "execution_count": null,
   "metadata": {},
   "outputs": [],
   "source": []
  },
  {
   "cell_type": "markdown",
   "metadata": {},
   "source": [
    "## Optimiser les hyper-paramètres de l’algorithme retenu\n",
    "Tester différents hyper-paramètres pour tirer au mieux partit de l'algorithme retenu\n",
    "\n",
    "### Boite à outils  \n",
    "GridSearchCV :  https://scikit-learn.org/stable/modules/generated/sklearn.model_selection.GridSearchCV.html\n",
    "\n"
   ]
  },
  {
   "cell_type": "code",
   "execution_count": null,
   "metadata": {},
   "outputs": [],
   "source": []
  },
  {
   "cell_type": "markdown",
   "metadata": {},
   "source": [
    "## Prédire des valeurs pour le jeu de test \n",
    "Créer un fichier au format .csv contenant  vos prédictions.\n",
    "En header le nom des colonnes (music_id et prediction) et pour chacun des morceaux la catégorie prédite.\n",
    "\n",
    "Vérifier que votre notebook fonctionne avant de le rendre \n",
    "\n",
    "### Boite à outils  \n",
    "exporter un dataFrame pandas au format csv :\n",
    "`df_test.to_csv('data/test.csv' , sep=',', decimal='.')`"
   ]
  },
  {
   "cell_type": "code",
   "execution_count": null,
   "metadata": {},
   "outputs": [],
   "source": []
  }
 ],
 "metadata": {
  "kernelspec": {
   "display_name": "Python 3",
   "language": "python",
   "name": "python3"
  },
  "language_info": {
   "codemirror_mode": {
    "name": "ipython",
    "version": 3
   },
   "file_extension": ".py",
   "mimetype": "text/x-python",
   "name": "python",
   "nbconvert_exporter": "python",
   "pygments_lexer": "ipython3",
   "version": "3.7.6"
  }
 },
 "nbformat": 4,
 "nbformat_minor": 2
}
